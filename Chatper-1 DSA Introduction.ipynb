{
 "cells": [
  {
   "cell_type": "markdown",
   "metadata": {},
   "source": [
    "### What is an Algorithm?\n",
    "An algorithm is a set of well-defined instructions in sequence to solve a problem."
   ]
  },
  {
   "cell_type": "markdown",
   "metadata": {},
   "source": [
    "### Qualities of a good algorithm\n",
    "1. Input and output should be defined precisely.\n",
    "2. Each step in the algorithm should be clear and unambiguous.\n",
    "3. Algorithms should be most effective among many different ways to solve a problem.\n",
    "4. An algorithm shouldn't include computer code. Instead, the algorithm should be written in such a way that it can be used in      different programming languages."
   ]
  },
  {
   "cell_type": "markdown",
   "metadata": {},
   "source": [
    "### Examples Of Algorithms In Programming"
   ]
  },
  {
   "cell_type": "markdown",
   "metadata": {},
   "source": [
    "#### Write an algorithm to add two numbers entered by the user.\n",
    "Step 1: Start\n",
    "\n",
    "Step 2: Declare variables num1, num2 and sum.\n",
    "\n",
    "Step 3: Read values num1 and num2.\n",
    "\n",
    "Step 4: Add num1 and num2 and assign the result to sum.\n",
    "        sum←num1+num2\n",
    "        \n",
    "Step 5: Display sum \n",
    "\n",
    "Step 6: Stop"
   ]
  },
  {
   "cell_type": "markdown",
   "metadata": {},
   "source": [
    "#### Write an algorithm to find the largest among three different numbers entered by the user.\n",
    "\n",
    "Step 1: Start\n",
    "\n",
    "Step 2: Declare variables a,b and c.\n",
    "\n",
    "Step 3: Read variables a,b and c.\n",
    "\n",
    "Step 4: If a > b           \n",
    "\t\t\tIf a > c              \n",
    "\t\t\t\tDisplay a is the largest number.           \n",
    "\t\t\tElse              \n",
    "\t\t\t\tDisplay c is the largest number.        \n",
    "\t\tElse           \n",
    "\t\t\tIf b > c              \n",
    "\t\t\t\t\tDisplay b is the largest number.           \n",
    "\t\tElse              \n",
    "\t\t\tDisplay c is the greatest number.\n",
    "            \n",
    "Step 5: Stop"
   ]
  },
  {
   "cell_type": "markdown",
   "metadata": {},
   "source": [
    "#### Write an algorithm to find all roots of a quadratic equation ax2+bx+c=0.\n",
    "Step 1: Start\n",
    "\n",
    "Step 2: Declare variables a, b, c, D, x1, x2, rp and ip;\n",
    "\n",
    "Step 3: Calculate discriminant\n",
    "         D ← b2-4ac\n",
    "         \n",
    "Step 4: If D ≥ 0\n",
    "              r1 ← (-b+√D)/2a\n",
    "              r2 ← (-b-√D)/2a\n",
    "              Display r1 and r2 as roots.\n",
    "        Else\n",
    "              Calculate real part and imaginary part\n",
    "              rp ← -b/2a\n",
    "              ip ← √(-D)/2a\n",
    "              Display rp+j(ip) and rp-j(ip) as roots\n",
    "              \n",
    "Step 5: Stop  "
   ]
  },
  {
   "cell_type": "markdown",
   "metadata": {},
   "source": [
    "#### Write an algorithm to find the factorial of a number entered by the user.\n",
    "Step 1: Start\n",
    "\n",
    "Step 2: Declare variables n, factorial and i.\n",
    "\n",
    "Step 3: Initialize variables\n",
    "          factorial ← 1\n",
    "          i ← 1\n",
    "          \n",
    "Step 4: Read value of n\n",
    "\n",
    "Step 5: Repeat the steps until i = n\n",
    "\n",
    "     5.1: factorial ← factorial*i\n",
    "     \n",
    "     5.2: i ← i+1\n",
    "     \n",
    "Step 6: Display factorial\n",
    "\n",
    "Step 7: Stop"
   ]
  },
  {
   "cell_type": "markdown",
   "metadata": {},
   "source": [
    "#### Write an algorithm to check whether a number entered by the user is prime or not.\n",
    "Step 1: Start\n",
    "\n",
    "Step 2: Declare variables n, i, flag.\n",
    "\n",
    "Step 3: Initialize variables\n",
    "        flag ← 1\n",
    "        i ← 2  \n",
    "        \n",
    "Step 4: Read n from the user.\n",
    "\n",
    "Step 5: Repeat the steps until i=(n/2)\n",
    "     5.1 If remainder of n÷i equals 0\n",
    "            flag ← 0\n",
    "            Go to step 6\n",
    "     5.2 i ← i+1\n",
    "     \n",
    "Step 6: If flag = 0\n",
    "           Display n is not prime\n",
    "        else\n",
    "           Display n is prime\n",
    "           \n",
    "Step 7: Stop "
   ]
  },
  {
   "cell_type": "markdown",
   "metadata": {},
   "source": [
    "#### Write an algorithm to find the Fibonacci series till term≤1000.\n",
    "Step 1: Start\n",
    "\n",
    "Step 2: Declare variables first_term,second_term and temp.\n",
    "\n",
    "Step 3: Initialize variables first_term ← 0 second_term ← 1\n",
    "\n",
    "Step 4: Display first_term and second_term\n",
    "\n",
    "Step 5: Repeat the steps until second_term ≤ 1000\n",
    "     5.1: temp ← second_term\n",
    "     5.2: second_term ← second_term + first_term\n",
    "     5.3: first_term ← temp\n",
    "     5.4: Display second_term\n",
    "     \n",
    "Step 6: Stop"
   ]
  }
 ],
 "metadata": {
  "kernelspec": {
   "display_name": "Python 3",
   "language": "python",
   "name": "python3"
  },
  "language_info": {
   "codemirror_mode": {
    "name": "ipython",
    "version": 3
   },
   "file_extension": ".py",
   "mimetype": "text/x-python",
   "name": "python",
   "nbconvert_exporter": "python",
   "pygments_lexer": "ipython3",
   "version": "3.8.3"
  }
 },
 "nbformat": 4,
 "nbformat_minor": 4
}
