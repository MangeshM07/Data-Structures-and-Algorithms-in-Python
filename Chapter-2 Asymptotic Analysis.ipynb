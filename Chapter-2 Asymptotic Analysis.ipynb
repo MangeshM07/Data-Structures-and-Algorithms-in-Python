{
 "cells": [
  {
   "cell_type": "markdown",
   "metadata": {},
   "source": [
    "The efficiency of an algorithm depends on the amount of time, storage and other resources required to execute the algorithm. The efficiency is measured with the help of asymptotic notations.\n",
    "\n",
    "An algorithm may not have the same performance for different types of inputs. With the increase in the input size, the performance will change.\n",
    "\n",
    "The study of change in performance of the algorithm with the change in the order of the input size is defined as asymptotic analysis."
   ]
  },
  {
   "cell_type": "markdown",
   "metadata": {},
   "source": [
    "## Asymptotic Notations\n",
    "Asymptotic notations are the mathematical notations used to describe the running time of an algorithm when the input tends towards a particular value or a limiting value.\n",
    "\n",
    "For example: In bubble sort, when the input array is already sorted, the time taken by the algorithm is linear i.e. the best case.\n",
    "\n",
    "But, when the input array is in reverse condition, the algorithm takes the maximum time (quadratic) to sort the elements i.e. the worst case.\n",
    "\n",
    "When the input array is neither sorted nor in reverse order, then it takes average time. These durations are denoted using asymptotic notations.\n",
    "\n",
    "There are mainly three asymptotic notations: Theta notation, Omega notation and Big-O notation.\n",
    "\n"
   ]
  },
  {
   "cell_type": "markdown",
   "metadata": {},
   "source": [
    "## Theta Notation (Θ-notation)\n",
    "Theta notation encloses the function from above and below. Since it represents the upper and the lower bound of the running time of an algorithm, it is used for analyzing the average case complexity of an algorithm.\n",
    "\n",
    "For a function g(n), Θ(g(n)) is given by the relation:\n",
    "\n",
    "Θ(g(n)) = { f(n): there exist positive constants c1, c2 and n0\n",
    "            such that 0 ≤ c1g(n) ≤ f(n) ≤ c2g(n) for all n ≥ n0 }\n",
    "            \n",
    "The above expression can be described as a function f(n) belongs to the set Θ(g(n)) if there exist positive constants c1 and c2 such that it can be sandwiched between c1g(n) and c2g(n), for sufficiently large n.\n",
    "\n",
    "If a function f(n) lies anywhere in between c1g(n) and c2 > g(n) for all n ≥ n0, then f(n) is said to be asymptotically tight bound."
   ]
  },
  {
   "cell_type": "markdown",
   "metadata": {},
   "source": [
    "## Big-O Notation (O-notation)\n",
    "Big-O notation represents the upper bound of the running time of an algorithm. Thus, it gives the worst case complexity of an algorithm.\n",
    "\n",
    "O(g(n)) = { f(n): there exist positive constants c and n0\n",
    "            such that 0 ≤ f(n) ≤ cg(n) for all n ≥ n0 }\n",
    "            \n",
    "The above expression can be described as a function f(n) belongs to the set O(g(n)) if there exists a positive constant c such that it lies between 0 and cg(n), for sufficiently large n.\n",
    "\n",
    "For any value of n, the running time of an algorithm does not cross time provided by O(g(n)).\n",
    "\n",
    "Since it gives the worst case running time of an algorithm, it is widely used to analyze an algorithm as we are always interested in the worst case scenario."
   ]
  },
  {
   "cell_type": "markdown",
   "metadata": {},
   "source": [
    "## Omega Notation (Ω-notation)\n",
    "Omega notation represents the lower bound of the running time of an algorithm. Thus, it provides best case complexity of an algorithm.\n",
    "\n",
    "Ω(g(n)) = { f(n): there exist positive constants c and n0 \n",
    "            such that 0 ≤ cg(n) ≤ f(n) for all n ≥ n0 }\n",
    "\n",
    "The above expression can be described as a function f(n) belongs to the set Ω(g(n)) if there exists a positive constant c such that it lies above cg(n), for sufficiently large n.\n",
    "\n",
    "For any value of n, the minimum time required by the algorithm is given by Omega Ω(g(n))."
   ]
  },
  {
   "cell_type": "code",
   "execution_count": null,
   "metadata": {},
   "outputs": [],
   "source": []
  }
 ],
 "metadata": {
  "kernelspec": {
   "display_name": "Python 3",
   "language": "python",
   "name": "python3"
  },
  "language_info": {
   "codemirror_mode": {
    "name": "ipython",
    "version": 3
   },
   "file_extension": ".py",
   "mimetype": "text/x-python",
   "name": "python",
   "nbconvert_exporter": "python",
   "pygments_lexer": "ipython3",
   "version": "3.8.3"
  }
 },
 "nbformat": 4,
 "nbformat_minor": 4
}
